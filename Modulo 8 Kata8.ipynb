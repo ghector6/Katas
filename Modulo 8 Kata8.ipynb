{
 "cells": [
  {
   "cell_type": "code",
   "execution_count": 7,
   "metadata": {},
   "outputs": [
    {
     "name": "stdout",
     "output_type": "stream",
     "text": [
      "marte has 2 lunas\n",
      "marte tiene unas circunferencia de 6752\n",
      "17.833333333333332\n"
     ]
    }
   ],
   "source": [
    "planet = {\n",
    "    'nombre': 'marte',\n",
    "    'lunas' : 2\n",
    "}\n",
    "print (f'{planet[\"nombre\"]} has {planet[\"lunas\"]} lunas')\n",
    "\n",
    "planet['circunferencia (km)'] ={\n",
    "    'polar' : 6752,\n",
    "    'ecuatorial' : 6792\n",
    "}\n",
    "\n",
    "print(f'{planet[\"nombre\"]} tiene unas circunferencia de {planet[\"circunferencia (km)\"][\"polar\"]}')\n",
    "\n",
    "planet_moons = {\n",
    "    'mercury': 0,\n",
    "    'venus': 0,\n",
    "    'earth': 1,\n",
    "    'mars': 2,\n",
    "    'jupiter': 79,\n",
    "    'saturn': 82,\n",
    "    'uranus': 27,\n",
    "    'neptune': 14,\n",
    "    'pluto': 5,\n",
    "    'haumea': 2,\n",
    "    'makemake': 1,\n",
    "    'eris': 1\n",
    "}\n",
    "moons = planet_moons.values()\n",
    "planets = len(planet_moons.keys())\n",
    "total_moons = 0\n",
    "for moon in moons:\n",
    "    total_moons= total_moons + moon \n",
    "promedio = total_moons / planets \n",
    "print(promedio)"
   ]
  }
 ],
 "metadata": {
  "interpreter": {
   "hash": "1c203bc62c21a39b51af9ca03f2cf1ff33d39e6725efa92e691ccebad763aa6e"
  },
  "kernelspec": {
   "display_name": "Python 3.10.2 64-bit",
   "language": "python",
   "name": "python3"
  },
  "language_info": {
   "codemirror_mode": {
    "name": "ipython",
    "version": 3
   },
   "file_extension": ".py",
   "mimetype": "text/x-python",
   "name": "python",
   "nbconvert_exporter": "python",
   "pygments_lexer": "ipython3",
   "version": "3.10.2"
  },
  "orig_nbformat": 4
 },
 "nbformat": 4,
 "nbformat_minor": 2
}
