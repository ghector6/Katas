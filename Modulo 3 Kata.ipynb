{
 "cells": [
  {
   "cell_type": "code",
   "execution_count": 24,
   "metadata": {},
   "outputs": [
    {
     "name": "stdout",
     "output_type": "stream",
     "text": [
      "Ya valió queso\n"
     ]
    }
   ],
   "source": [
    "asteroide = 49\n",
    "if asteroide > 25:\n",
    "    print('Ya valió queso')\n",
    "else:\n",
    "    print('Buen día')"
   ]
  },
  {
   "cell_type": "code",
   "execution_count": 28,
   "metadata": {},
   "outputs": [
    {
     "name": "stdout",
     "output_type": "stream",
     "text": [
      "Impacto no visible\n"
     ]
    }
   ],
   "source": [
    "asteroide = 19\n",
    "if asteroide > 20:\n",
    "    print('Vea al cielo en busca del asteroide.')\n",
    "elif asteroide == 20:\n",
    "    print('Ubique zona de impacto')\n",
    "else:\n",
    "    print('Impacto no visible')\n",
    " \n"
   ]
  },
  {
   "cell_type": "code",
   "execution_count": 33,
   "metadata": {},
   "outputs": [
    {
     "name": "stdout",
     "output_type": "stream",
     "text": [
      "Despidase de su vida LOL XD\n"
     ]
    }
   ],
   "source": [
    "Tamaño = 25\n",
    "Velocidad = 25 \n",
    "\n",
    "if Tamaño >= 25 and Velocidad >= 25:\n",
    "    print('Despidase de su vida LOL XD')\n",
    "elif Tamaño < 25 and Velocidad >= 20:\n",
    "    print('Pida un deseo')\n",
    "elif Tamaño < 25 and Velocidad < 20:\n",
    "    print('Boring')\n",
    "elif Tamaño > 25:\n",
    "    print('F en el chat')\n",
    "else:\n",
    "    print('Don´t worry b happy')\n",
    "\n"
   ]
  }
 ],
 "metadata": {
  "interpreter": {
   "hash": "1c203bc62c21a39b51af9ca03f2cf1ff33d39e6725efa92e691ccebad763aa6e"
  },
  "kernelspec": {
   "display_name": "Python 3.10.2 64-bit",
   "language": "python",
   "name": "python3"
  },
  "language_info": {
   "codemirror_mode": {
    "name": "ipython",
    "version": 3
   },
   "file_extension": ".py",
   "mimetype": "text/x-python",
   "name": "python",
   "nbconvert_exporter": "python",
   "pygments_lexer": "ipython3",
   "version": "3.10.2"
  },
  "orig_nbformat": 4
 },
 "nbformat": 4,
 "nbformat_minor": 2
}
