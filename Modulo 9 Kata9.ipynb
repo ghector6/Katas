{
 "cells": [
  {
   "cell_type": "code",
   "execution_count": 7,
   "metadata": {},
   "outputs": [
    {
     "name": "stdout",
     "output_type": "stream",
     "text": [
      "Fuel Report:\n",
      "    Total Average: 78.33333333333333%\n",
      "    Main Tank: 80%\n",
      "    External Tank: 70% \n",
      "    Hydrogen Tank: 85%\n",
      "    \n"
     ]
    }
   ],
   "source": [
    "def fuel_report(Tank1,Tank2,Tank3):\n",
    "    average_left = (Tank1 +Tank2 + Tank3)/3\n",
    "    return f\"\"\"Fuel Report:\n",
    "    Total Average: {average_left}%\n",
    "    Main Tank: {Tank1}%\n",
    "    External Tank: {Tank2}% \n",
    "    Hydrogen Tank: {Tank3}%\n",
    "    \"\"\"\n",
    "print(fuel_report(80,70,85))\n"
   ]
  },
  {
   "cell_type": "code",
   "execution_count": 9,
   "metadata": {},
   "outputs": [
    {
     "data": {
      "text/plain": [
       "82.0"
      ]
     },
     "execution_count": 9,
     "metadata": {},
     "output_type": "execute_result"
    }
   ],
   "source": [
    "def average(values):\n",
    "    total= sum(values)\n",
    "    number_of_items = len(values)\n",
    "    return total / number_of_items \n",
    "\n",
    "average([80, 85,81])"
   ]
  },
  {
   "cell_type": "code",
   "execution_count": 12,
   "metadata": {},
   "outputs": [
    {
     "name": "stdout",
     "output_type": "stream",
     "text": [
      "Fuel Report:\n",
      "    Total Average: 78.0%\n",
      "    Main tank: 88%\n",
      "    External tank: 76%\n",
      "    Hydrogen tank: 70% \n",
      "    \n"
     ]
    }
   ],
   "source": [
    "def generate_report(Tank1, Tank2, Tank3):\n",
    "    return f\"\"\"Fuel Report:\n",
    "    Total Average: {average([Tank1, Tank2, Tank3])}%\n",
    "    Main tank: {Tank1}%\n",
    "    External tank: {Tank2}%\n",
    "    Hydrogen tank: {Tank3}% \n",
    "    \"\"\"\n",
    "print(generate_report(88, 76, 70))"
   ]
  },
  {
   "cell_type": "code",
   "execution_count": 15,
   "metadata": {},
   "outputs": [
    {
     "name": "stdout",
     "output_type": "stream",
     "text": [
      "\n",
      "    Mision a Luna\n",
      "    Tiempo total de viaje: 100 min\n",
      "    Combustible Rest: 1000000 galones\n",
      "    \n"
     ]
    }
   ],
   "source": [
    "def infomre_cohete(Hora_de_prelanz, Tiempo_de_vuelo, Destino, Tanque_ext, Tanque_int):\n",
    "    return f\"\"\"\n",
    "    Mision a {Destino}\n",
    "    Tiempo total de viaje: {Hora_de_prelanz + Tiempo_de_vuelo} min\n",
    "    Combustible Rest: {Tanque_ext + Tanque_int} galones\n",
    "    \"\"\"\n",
    "print(infomre_cohete(40, 60, \"Luna\", 400000, 600000))\n",
    "\n"
   ]
  },
  {
   "cell_type": "code",
   "execution_count": 19,
   "metadata": {},
   "outputs": [
    {
     "name": "stdout",
     "output_type": "stream",
     "text": [
      "\n",
      "    Mision a Moon\n",
      "    Tiempo Total de viaje: 74min\n",
      "    Combustible Restante: 500000\n",
      "    main tank --> 300000 gallons left\n",
      "external tank --> 200000 gallons left\n",
      "\n"
     ]
    }
   ],
   "source": [
    "def infomre_cohete(Destino, *Minutos, **reserva_combus):\n",
    "    main_report= f\"\"\"\n",
    "    Mision a { Destino}\n",
    "    Tiempo Total de viaje: {sum(Minutos)}min\n",
    "    Combustible Restante: {sum(reserva_combus.values())}\n",
    "    \"\"\"\n",
    "    for tank_name, gallons in reserva_combus.items():\n",
    "        main_report += f\"{tank_name} tank --> {gallons} gallons left\\n\"\n",
    "    return main_report\n",
    "\n",
    "print(infomre_cohete(\"Moon\", 8, 11, 55, main=300000, external=200000))\n"
   ]
  }
 ],
 "metadata": {
  "interpreter": {
   "hash": "1c203bc62c21a39b51af9ca03f2cf1ff33d39e6725efa92e691ccebad763aa6e"
  },
  "kernelspec": {
   "display_name": "Python 3.10.2 64-bit",
   "language": "python",
   "name": "python3"
  },
  "language_info": {
   "codemirror_mode": {
    "name": "ipython",
    "version": 3
   },
   "file_extension": ".py",
   "mimetype": "text/x-python",
   "name": "python",
   "nbconvert_exporter": "python",
   "pygments_lexer": "ipython3",
   "version": "3.10.2"
  },
  "orig_nbformat": 4
 },
 "nbformat": 4,
 "nbformat_minor": 2
}
